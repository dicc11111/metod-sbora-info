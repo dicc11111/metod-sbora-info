{
 "cells": [
  {
   "cell_type": "code",
   "execution_count": 1,
   "id": "3c05b3f5",
   "metadata": {},
   "outputs": [],
   "source": [
    "import requests\n",
    "import json\n",
    "import re\n",
    "import pandas as pd\n",
    "from bs4 import BeautifulSoup as bs"
   ]
  },
  {
   "cell_type": "code",
   "execution_count": 2,
   "id": "bcfd772e",
   "metadata": {},
   "outputs": [],
   "source": [
    "url = 'https://hh.ru'\n",
    "route = '/search/vacancy'\n",
    "params = {\n",
    "  'text': 'Бортпроводник',\n",
    "  'page': 0\n",
    "}\n",
    "headers = {'User-Agent': 'Mozilla/5.0 (Windows NT 10.0; Win64; x64) AppleWebKit/537.36 (KHTML, like Gecko) Chrome/94.0.4606.81 Safari/537.36'}"
   ]
  },
  {
   "cell_type": "code",
   "execution_count": 3,
   "id": "3187d10d",
   "metadata": {},
   "outputs": [
    {
     "name": "stdout",
     "output_type": "stream",
     "text": [
      "Обработано вакансий на 1 странице: 20\n",
      "Обработано вакансий на 2 странице: 20\n",
      "Обработано вакансий на 3 странице: 20\n",
      "Обработано вакансий на 4 странице: 20\n",
      "Обработано вакансий на 5 странице: 20\n",
      "Обработано вакансий на 6 странице: 4\n"
     ]
    }
   ],
   "source": [
    "vacancies = []\n",
    "\n",
    "while True:\n",
    "  response = requests.get(url + route, params=params, headers=headers)\n",
    "  if response.ok:\n",
    "    dom = bs(response.text, 'html.parser')\n",
    "\n",
    "    page_vacancies = dom.select('div.vacancy-serp-item')\n",
    "\n",
    "    if not page_vacancies:\n",
    "      break\n",
    "    \n",
    "    for page_vacancy in page_vacancies:\n",
    "      vacancy_data = {\n",
    "        'salary_from': None,\n",
    "        'salary_to': None,\n",
    "        'salary_currency': None\n",
    "      }\n",
    "\n",
    "      link_node = page_vacancy.find('a', {'data-qa': 'vacancy-serp__vacancy-title'})\n",
    "      salary_node = page_vacancy.find('span', {'data-qa': 'vacancy-serp__vacancy-compensation'})\n",
    "\n",
    "      vacancy_data['title'] = link_node.text\n",
    "      vacancy_data['url'] = link_node['href']\n",
    "      vacancy_data['from'] = url\n",
    "\n",
    "      if salary_node:\n",
    "        salary_list = re.sub('\\u202f', '', salary_node.text).split()\n",
    "        vacancy_data['salary_currency'] = salary_list.pop()\n",
    "\n",
    "        if salary_list[0] == 'от':\n",
    "          vacancy_data['salary_from'] = salary_list[1]\n",
    "          if 'до' in salary_list:\n",
    "            vacancy_data['salary_to'] = salary_list[3]\n",
    "        elif salary_list[0] == 'до':\n",
    "          vacancy_data['salary_to'] = salary_list[1]\n",
    "        else:\n",
    "          vacancy_data['salary_from'] = salary_list[0]\n",
    "          if '–' in salary_list:\n",
    "            vacancy_data['salary_from'] = salary_list[0]\n",
    "            vacancy_data['salary_to'] = salary_list[2]\n",
    "          else:\n",
    "            vacancy_data['salary_to'] = salary_list[0]\n",
    "\n",
    "      vacancies.append(vacancy_data)\n",
    "\n",
    "    print(f\"Обработано вакансий на {params['page'] + 1} странице: {len(page_vacancies)}\")\n",
    "    params['page'] += 1\n",
    "  else:\n",
    "    break"
   ]
  },
  {
   "cell_type": "code",
   "execution_count": 4,
   "id": "a82a5c22",
   "metadata": {},
   "outputs": [
    {
     "data": {
      "text/html": [
       "<div>\n",
       "<style scoped>\n",
       "    .dataframe tbody tr th:only-of-type {\n",
       "        vertical-align: middle;\n",
       "    }\n",
       "\n",
       "    .dataframe tbody tr th {\n",
       "        vertical-align: top;\n",
       "    }\n",
       "\n",
       "    .dataframe thead th {\n",
       "        text-align: right;\n",
       "    }\n",
       "</style>\n",
       "<table border=\"1\" class=\"dataframe\">\n",
       "  <thead>\n",
       "    <tr style=\"text-align: right;\">\n",
       "      <th></th>\n",
       "      <th>salary_from</th>\n",
       "      <th>salary_to</th>\n",
       "      <th>salary_currency</th>\n",
       "      <th>title</th>\n",
       "      <th>url</th>\n",
       "      <th>from</th>\n",
       "    </tr>\n",
       "  </thead>\n",
       "  <tbody>\n",
       "    <tr>\n",
       "      <th>42</th>\n",
       "      <td>None</td>\n",
       "      <td>None</td>\n",
       "      <td>None</td>\n",
       "      <td>Бортпроводник</td>\n",
       "      <td>https://togliatti.hh.ru/vacancy/50767094?from=...</td>\n",
       "      <td>https://hh.ru</td>\n",
       "    </tr>\n",
       "    <tr>\n",
       "      <th>63</th>\n",
       "      <td>42000</td>\n",
       "      <td>47000</td>\n",
       "      <td>руб.</td>\n",
       "      <td>Менеджер по персоналу</td>\n",
       "      <td>https://togliatti.hh.ru/vacancy/50156810?from=...</td>\n",
       "      <td>https://hh.ru</td>\n",
       "    </tr>\n",
       "    <tr>\n",
       "      <th>31</th>\n",
       "      <td>None</td>\n",
       "      <td>None</td>\n",
       "      <td>None</td>\n",
       "      <td>Бортпроводник-стажёр</td>\n",
       "      <td>https://togliatti.hh.ru/vacancy/50042619?from=...</td>\n",
       "      <td>https://hh.ru</td>\n",
       "    </tr>\n",
       "    <tr>\n",
       "      <th>65</th>\n",
       "      <td>45000</td>\n",
       "      <td>None</td>\n",
       "      <td>руб.</td>\n",
       "      <td>Стюард (Красная поляна, 2200)</td>\n",
       "      <td>https://togliatti.hh.ru/vacancy/50771058?from=...</td>\n",
       "      <td>https://hh.ru</td>\n",
       "    </tr>\n",
       "    <tr>\n",
       "      <th>92</th>\n",
       "      <td>35000</td>\n",
       "      <td>50000</td>\n",
       "      <td>руб.</td>\n",
       "      <td>Стюард / Кухонный рабочий (банкеты и мероприятия)</td>\n",
       "      <td>https://togliatti.hh.ru/vacancy/50309323?from=...</td>\n",
       "      <td>https://hh.ru</td>\n",
       "    </tr>\n",
       "    <tr>\n",
       "      <th>93</th>\n",
       "      <td>35000</td>\n",
       "      <td>50000</td>\n",
       "      <td>руб.</td>\n",
       "      <td>Стюард / Кухонный рабочий (банкеты и мероприятия)</td>\n",
       "      <td>https://togliatti.hh.ru/vacancy/50309366?from=...</td>\n",
       "      <td>https://hh.ru</td>\n",
       "    </tr>\n",
       "    <tr>\n",
       "      <th>52</th>\n",
       "      <td>100000</td>\n",
       "      <td>140000</td>\n",
       "      <td>руб.</td>\n",
       "      <td>Бортпроводник</td>\n",
       "      <td>https://togliatti.hh.ru/vacancy/48069299?from=...</td>\n",
       "      <td>https://hh.ru</td>\n",
       "    </tr>\n",
       "    <tr>\n",
       "      <th>34</th>\n",
       "      <td>None</td>\n",
       "      <td>150000</td>\n",
       "      <td>руб.</td>\n",
       "      <td>Бортпроводник-фрилансер</td>\n",
       "      <td>https://togliatti.hh.ru/vacancy/50600307?from=...</td>\n",
       "      <td>https://hh.ru</td>\n",
       "    </tr>\n",
       "    <tr>\n",
       "      <th>54</th>\n",
       "      <td>None</td>\n",
       "      <td>None</td>\n",
       "      <td>None</td>\n",
       "      <td>Бортпроводник ВС Боинг-737NG/ Боинг-757/ Боинг...</td>\n",
       "      <td>https://togliatti.hh.ru/vacancy/49064313?from=...</td>\n",
       "      <td>https://hh.ru</td>\n",
       "    </tr>\n",
       "    <tr>\n",
       "      <th>39</th>\n",
       "      <td>1250</td>\n",
       "      <td>3270</td>\n",
       "      <td>USD</td>\n",
       "      <td>Стюардесса (стюард) морского пассажирского флота</td>\n",
       "      <td>https://togliatti.hh.ru/vacancy/50554392?from=...</td>\n",
       "      <td>https://hh.ru</td>\n",
       "    </tr>\n",
       "  </tbody>\n",
       "</table>\n",
       "</div>"
      ],
      "text/plain": [
       "   salary_from salary_to salary_currency  \\\n",
       "42        None      None            None   \n",
       "63       42000     47000            руб.   \n",
       "31        None      None            None   \n",
       "65       45000      None            руб.   \n",
       "92       35000     50000            руб.   \n",
       "93       35000     50000            руб.   \n",
       "52      100000    140000            руб.   \n",
       "34        None    150000            руб.   \n",
       "54        None      None            None   \n",
       "39        1250      3270             USD   \n",
       "\n",
       "                                                title  \\\n",
       "42                                      Бортпроводник   \n",
       "63                              Менеджер по персоналу   \n",
       "31                               Бортпроводник-стажёр   \n",
       "65                      Стюард (Красная поляна, 2200)   \n",
       "92  Стюард / Кухонный рабочий (банкеты и мероприятия)   \n",
       "93  Стюард / Кухонный рабочий (банкеты и мероприятия)   \n",
       "52                                      Бортпроводник   \n",
       "34                            Бортпроводник-фрилансер   \n",
       "54  Бортпроводник ВС Боинг-737NG/ Боинг-757/ Боинг...   \n",
       "39   Стюардесса (стюард) морского пассажирского флота   \n",
       "\n",
       "                                                  url           from  \n",
       "42  https://togliatti.hh.ru/vacancy/50767094?from=...  https://hh.ru  \n",
       "63  https://togliatti.hh.ru/vacancy/50156810?from=...  https://hh.ru  \n",
       "31  https://togliatti.hh.ru/vacancy/50042619?from=...  https://hh.ru  \n",
       "65  https://togliatti.hh.ru/vacancy/50771058?from=...  https://hh.ru  \n",
       "92  https://togliatti.hh.ru/vacancy/50309323?from=...  https://hh.ru  \n",
       "93  https://togliatti.hh.ru/vacancy/50309366?from=...  https://hh.ru  \n",
       "52  https://togliatti.hh.ru/vacancy/48069299?from=...  https://hh.ru  \n",
       "34  https://togliatti.hh.ru/vacancy/50600307?from=...  https://hh.ru  \n",
       "54  https://togliatti.hh.ru/vacancy/49064313?from=...  https://hh.ru  \n",
       "39  https://togliatti.hh.ru/vacancy/50554392?from=...  https://hh.ru  "
      ]
     },
     "execution_count": 4,
     "metadata": {},
     "output_type": "execute_result"
    }
   ],
   "source": [
    "data = pd.DataFrame(vacancies)\n",
    "data.sample(10)"
   ]
  },
  {
   "cell_type": "code",
   "execution_count": 5,
   "id": "904c3f74",
   "metadata": {},
   "outputs": [],
   "source": [
    "with open('hh_vacancies.json', 'w') as f:\n",
    "    json.dump(vacancies, f)"
   ]
  },
  {
   "cell_type": "markdown",
   "id": "a094eae1",
   "metadata": {},
   "source": [
    "###  Задание 3"
   ]
  },
  {
   "cell_type": "code",
   "execution_count": 15,
   "id": "4c93f8ea",
   "metadata": {},
   "outputs": [],
   "source": [
    "from pymongo import MongoClient\n",
    "from pymongo.errors import DuplicateKeyError as dke"
   ]
  },
  {
   "cell_type": "code",
   "execution_count": 16,
   "id": "7fcd651a",
   "metadata": {},
   "outputs": [],
   "source": [
    "client = MongoClient('127.0.0.1', 27017)\n",
    "db = client['vacansy_db']\n",
    "vacancies = db.vacansy_db"
   ]
  },
  {
   "cell_type": "code",
   "execution_count": 19,
   "id": "256178ad",
   "metadata": {},
   "outputs": [
    {
     "ename": "SyntaxError",
     "evalue": "unexpected EOF while parsing (<ipython-input-19-3bf6ee2a5d26>, line 16)",
     "output_type": "error",
     "traceback": [
      "\u001b[1;36m  File \u001b[1;32m\"<ipython-input-19-3bf6ee2a5d26>\"\u001b[1;36m, line \u001b[1;32m16\u001b[0m\n\u001b[1;33m    print(\"Такая вакансия уже добавлена\"\u001b[0m\n\u001b[1;37m                                        ^\u001b[0m\n\u001b[1;31mSyntaxError\u001b[0m\u001b[1;31m:\u001b[0m unexpected EOF while parsing\n"
     ]
    }
   ],
   "source": [
    "def vacancies(value):\n",
    "    if type(value) == list:\n",
    "        for el in value:\n",
    "            try:\n",
    "                vacancies.insert_one(el)\n",
    "            except TypeError:\n",
    "                print('Неверный тип данных')\n",
    "            except dke:\n",
    "                print(f\"Вакансия с id {el['_id']} уже добавлена\")  \n",
    "    else:\n",
    "        try:\n",
    "            vacancies.insert_one(value)\n",
    "        except TypeError:\n",
    "            print('Неверный тип данных')\n",
    "        except dke:\n",
    "            print(\"Такая вакансия уже добавлена\""
   ]
  },
  {
   "cell_type": "code",
   "execution_count": 20,
   "id": "48f4545a",
   "metadata": {},
   "outputs": [],
   "source": [
    "def look_for_documents(wage):\n",
    "    out = []\n",
    "\n",
    "    for item in vacancies.find({'$or': [{'min_wage': {'$gt': 0}}, {'max_wage': {'$gt': 0}}]}): #нет смысла выводить то, где пустые значения в макс и мин ЗП\n",
    "        if item[\"min_wage\"] == None:\n",
    "            if wage <= item['max_wage']:\n",
    "                out.append(item)\n",
    "        elif item[\"max_wage\"] == None:\n",
    "            if wage <= item[\"min_wage\"]:\n",
    "                out.append(item)\n",
    "        else:\n",
    "            if wage <= item[\"min_wage\"]:\n",
    "                out.append(item)\n",
    "            elif wage <= item[\"max_wage\"]:\n",
    "                out.append(item)\n",
    "    return out"
   ]
  },
  {
   "cell_type": "code",
   "execution_count": 21,
   "id": "067d9760",
   "metadata": {},
   "outputs": [
    {
     "data": {
      "text/plain": [
       "[]"
      ]
     },
     "execution_count": 21,
     "metadata": {},
     "output_type": "execute_result"
    }
   ],
   "source": [
    "look_for_documents(200000)"
   ]
  },
  {
   "cell_type": "code",
   "execution_count": 30,
   "id": "99672579",
   "metadata": {},
   "outputs": [
    {
     "data": {
      "text/plain": [
       "Collection(Database(MongoClient(host=['127.0.0.1:27017'], document_class=dict, tz_aware=False, connect=True), 'vacansy_db'), 'vacansy_db')"
      ]
     },
     "execution_count": 30,
     "metadata": {},
     "output_type": "execute_result"
    }
   ],
   "source": [
    "vacancies"
   ]
  },
  {
   "cell_type": "code",
   "execution_count": null,
   "id": "d041e483",
   "metadata": {},
   "outputs": [],
   "source": []
  },
  {
   "cell_type": "code",
   "execution_count": null,
   "id": "e1d4e11e",
   "metadata": {},
   "outputs": [],
   "source": []
  }
 ],
 "metadata": {
  "kernelspec": {
   "display_name": "Python 3",
   "language": "python",
   "name": "python3"
  },
  "language_info": {
   "codemirror_mode": {
    "name": "ipython",
    "version": 3
   },
   "file_extension": ".py",
   "mimetype": "text/x-python",
   "name": "python",
   "nbconvert_exporter": "python",
   "pygments_lexer": "ipython3",
   "version": "3.8.8"
  }
 },
 "nbformat": 4,
 "nbformat_minor": 5
}
