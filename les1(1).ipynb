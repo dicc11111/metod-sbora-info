{
 "cells": [
  {
   "cell_type": "code",
   "execution_count": 1,
   "id": "a775a61a",
   "metadata": {},
   "outputs": [],
   "source": [
    "import requests\n",
    "import json"
   ]
  },
  {
   "cell_type": "code",
   "execution_count": 3,
   "id": "bab4ce35",
   "metadata": {},
   "outputs": [],
   "source": [
    "url = 'https://api.github.com'\n",
    "user='dicc11111'"
   ]
  },
  {
   "cell_type": "code",
   "execution_count": 4,
   "id": "9f87065f",
   "metadata": {},
   "outputs": [],
   "source": [
    "r = requests.get(f'{url}/users/{user}/repos')"
   ]
  },
  {
   "cell_type": "code",
   "execution_count": 5,
   "id": "0bbf1a68",
   "metadata": {},
   "outputs": [],
   "source": [
    "with open('data.json', 'w') as f:\n",
    "    json.dump(r.json(), f)"
   ]
  },
  {
   "cell_type": "code",
   "execution_count": 6,
   "id": "592367ea",
   "metadata": {},
   "outputs": [
    {
     "name": "stdout",
     "output_type": "stream",
     "text": [
      "-Python-Data-Science-\n",
      "-Python-Data-Science-Numpy-Matplotlib-Scikit-learn\n",
      "dicc11111\n",
      "lesson_3\n",
      "Methods-of-collecting-and-processing-data-from-the-Internet\n",
      "metod-sbora-info\n",
      "Pyhton\n",
      "pythonProject_5\n"
     ]
    }
   ],
   "source": [
    "for i in r.json():\n",
    "    print(i['name'])"
   ]
  }
 ],
 "metadata": {
  "kernelspec": {
   "display_name": "Python 3",
   "language": "python",
   "name": "python3"
  },
  "language_info": {
   "codemirror_mode": {
    "name": "ipython",
    "version": 3
   },
   "file_extension": ".py",
   "mimetype": "text/x-python",
   "name": "python",
   "nbconvert_exporter": "python",
   "pygments_lexer": "ipython3",
   "version": "3.8.8"
  }
 },
 "nbformat": 4,
 "nbformat_minor": 5
}
